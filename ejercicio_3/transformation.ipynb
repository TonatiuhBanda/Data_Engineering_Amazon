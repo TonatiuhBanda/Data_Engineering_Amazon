{
 "cells": [
  {
   "cell_type": "code",
   "execution_count": 1,
   "metadata": {},
   "outputs": [],
   "source": [
    "from pyspark.sql import SparkSession\n",
    "from pyspark.context import SparkContext\n",
    "import pyspark.sql.functions as F\n",
    "from pyspark.sql.types import *"
   ]
  },
  {
   "cell_type": "code",
   "execution_count": 2,
   "metadata": {},
   "outputs": [],
   "source": [
    "sc = SparkContext.getOrCreate()\n",
    "spark = SparkSession(sc)"
   ]
  },
  {
   "cell_type": "markdown",
   "metadata": {},
   "source": [
    "### Tabla products_standard_price"
   ]
  },
  {
   "cell_type": "code",
   "execution_count": 3,
   "metadata": {},
   "outputs": [],
   "source": [
    "dir_archivo = \"/home/tonatiuh/Documents/Desarrollo/ZophiaLearning/ejercicios/\"\n",
    "nombre_archivo = \"amazon/curated/products_standard_price.parquet\""
   ]
  },
  {
   "cell_type": "code",
   "execution_count": 4,
   "metadata": {},
   "outputs": [],
   "source": [
    "df = spark.read.format(\"parquet\")\\\n",
    "        .load(dir_archivo+nombre_archivo)"
   ]
  },
  {
   "cell_type": "code",
   "execution_count": 5,
   "metadata": {},
   "outputs": [],
   "source": [
    "df = df.select([\n",
    "    'product_id',\n",
    "    'country',\n",
    "    'app_sale_price_us'])"
   ]
  },
  {
   "cell_type": "code",
   "execution_count": 6,
   "metadata": {},
   "outputs": [
    {
     "name": "stdout",
     "output_type": "stream",
     "text": [
      "root\n",
      " |-- product_id: string (nullable = true)\n",
      " |-- country: string (nullable = true)\n",
      " |-- app_sale_price_us: double (nullable = true)\n",
      "\n"
     ]
    }
   ],
   "source": [
    "df.printSchema()"
   ]
  },
  {
   "cell_type": "code",
   "execution_count": 7,
   "metadata": {},
   "outputs": [
    {
     "name": "stdout",
     "output_type": "stream",
     "text": [
      "+----------+-------+------------------+\n",
      "|product_id|country| app_sale_price_us|\n",
      "+----------+-------+------------------+\n",
      "|B019HKBWGO|     US| 87.98999786376953|\n",
      "|B07TVDBFQM|     US|10.449999809265137|\n",
      "|B0154ASID6|     US|19.989999771118164|\n",
      "|B08TJZDJ4D|     US|28.489999771118164|\n",
      "|B00MNV8E0C|     US|14.989999771118164|\n",
      "+----------+-------+------------------+\n",
      "only showing top 5 rows\n",
      "\n"
     ]
    }
   ],
   "source": [
    "df.show(n=5)\n",
    "#df.show(n=5, vertical=True, truncate=False)"
   ]
  },
  {
   "cell_type": "markdown",
   "metadata": {},
   "source": [
    "### Tabla avg, min, max"
   ]
  },
  {
   "cell_type": "code",
   "execution_count": 8,
   "metadata": {},
   "outputs": [
    {
     "data": {
      "text/plain": [
       "DataFrame[product_id: string, max_price_us: double, max_country: string]"
      ]
     },
     "execution_count": 8,
     "metadata": {},
     "output_type": "execute_result"
    }
   ],
   "source": [
    "df_price_max = df.groupby('product_id')\\\n",
    "    .agg(F.max('app_sale_price_us').alias('app_sale_price_us'))\n",
    "\n",
    "df_max = df.join(df_price_max, how='inner', on=['product_id', 'app_sale_price_us'])\n",
    "df_max = df_max.distinct()\n",
    "df_max = df_max.withColumnRenamed('app_sale_price_us', 'max_price_us')\n",
    "df_max = df_max.withColumnRenamed('country', 'max_country')\n",
    "df_max.cache()"
   ]
  },
  {
   "cell_type": "code",
   "execution_count": 9,
   "metadata": {},
   "outputs": [
    {
     "name": "stdout",
     "output_type": "stream",
     "text": [
      "+----------+------------------+-----------+\n",
      "|product_id|      max_price_us|max_country|\n",
      "+----------+------------------+-----------+\n",
      "|B07FJ8DDPX|  44.9900016784668|         US|\n",
      "|B07C23YFZZ|36.559618378276824|         AU|\n",
      "|B07D2X32B9|22.989999771118164|         US|\n",
      "+----------+------------------+-----------+\n",
      "only showing top 3 rows\n",
      "\n"
     ]
    }
   ],
   "source": [
    "df_max.show(3)"
   ]
  },
  {
   "cell_type": "code",
   "execution_count": 10,
   "metadata": {},
   "outputs": [
    {
     "data": {
      "text/plain": [
       "DataFrame[product_id: string, min_price_us: double, min_country: string]"
      ]
     },
     "execution_count": 10,
     "metadata": {},
     "output_type": "execute_result"
    }
   ],
   "source": [
    "df_price_min = df.groupby('product_id')\\\n",
    "    .agg(F.min('app_sale_price_us').alias('app_sale_price_us'))\n",
    "\n",
    "df_min = df.join(df_price_min, how='inner', on=['product_id', 'app_sale_price_us'])\n",
    "df_min = df_min.distinct()\n",
    "df_min = df_min.withColumnRenamed('app_sale_price_us', 'min_price_us')\n",
    "df_min = df_min.withColumnRenamed('country', 'min_country')\n",
    "df_min.cache()"
   ]
  },
  {
   "cell_type": "code",
   "execution_count": 11,
   "metadata": {},
   "outputs": [
    {
     "name": "stdout",
     "output_type": "stream",
     "text": [
      "+----------+------------------+-----------+\n",
      "|product_id|      min_price_us|min_country|\n",
      "+----------+------------------+-----------+\n",
      "|B07FJ8DDPX|  44.9900016784668|         US|\n",
      "|B07C23YFZZ|36.559618378276824|         AU|\n",
      "|B07D2X32B9|22.989999771118164|         US|\n",
      "+----------+------------------+-----------+\n",
      "only showing top 3 rows\n",
      "\n"
     ]
    }
   ],
   "source": [
    "df_min.show(3)"
   ]
  },
  {
   "cell_type": "code",
   "execution_count": 12,
   "metadata": {},
   "outputs": [
    {
     "data": {
      "text/plain": [
       "DataFrame[product_id: string, country_count: int, avg_price_us: double]"
      ]
     },
     "execution_count": 12,
     "metadata": {},
     "output_type": "execute_result"
    }
   ],
   "source": [
    "df_id = df.groupby('product_id')\\\n",
    "    .agg(F.count('country').alias('country_count'),\n",
    "         F.mean('app_sale_price_us').alias('avg_price_us'))\n",
    "df_id = df_id.withColumn('country_count', F.col('country_count').cast(IntegerType()))\n",
    "df_id.cache()"
   ]
  },
  {
   "cell_type": "code",
   "execution_count": 13,
   "metadata": {},
   "outputs": [
    {
     "name": "stdout",
     "output_type": "stream",
     "text": [
      "+----------+-------------+------------------+\n",
      "|product_id|country_count|      avg_price_us|\n",
      "+----------+-------------+------------------+\n",
      "|B01N5RJW49|            2|15.989999771118164|\n",
      "|B07TLYTDXF|            2| 34.18598966303444|\n",
      "|B07PCXZ14V|            3| 69.98475720388413|\n",
      "+----------+-------------+------------------+\n",
      "only showing top 3 rows\n",
      "\n"
     ]
    }
   ],
   "source": [
    "df_id.show(3)"
   ]
  },
  {
   "cell_type": "markdown",
   "metadata": {},
   "source": [
    "### Cruce de tablas"
   ]
  },
  {
   "cell_type": "code",
   "execution_count": 14,
   "metadata": {},
   "outputs": [
    {
     "data": {
      "text/plain": [
       "DataFrame[product_id: string, country_count: int, avg_price_us: double, max_price_us: double, max_country: string, min_price_us: double, min_country: string]"
      ]
     },
     "execution_count": 14,
     "metadata": {},
     "output_type": "execute_result"
    }
   ],
   "source": [
    "df_id_max = df_id.join(df_max, how='left', on=['product_id'])\n",
    "df_agg = df_id_max.join(df_min, how='left', on=['product_id'])\n",
    "df_agg.cache()"
   ]
  },
  {
   "cell_type": "code",
   "execution_count": 15,
   "metadata": {},
   "outputs": [
    {
     "name": "stdout",
     "output_type": "stream",
     "text": [
      "+----------+-------------+------------------+------------------+-----------+------------------+-----------+\n",
      "|product_id|country_count|      avg_price_us|      max_price_us|max_country|      min_price_us|min_country|\n",
      "+----------+-------------+------------------+------------------+-----------+------------------+-----------+\n",
      "|B01N5RJW49|            2|15.989999771118164|15.989999771118164|         US|15.989999771118164|         US|\n",
      "|B07TLYTDXF|            2| 34.18598966303444| 34.18598966303444|         CA| 34.18598966303444|         CA|\n",
      "|B07PCXZ14V|            3| 69.98475720388413|  99.0039140507126|         CA| 40.96560035705566|         GB|\n",
      "+----------+-------------+------------------+------------------+-----------+------------------+-----------+\n",
      "only showing top 3 rows\n",
      "\n"
     ]
    }
   ],
   "source": [
    "df_agg.show(3)"
   ]
  },
  {
   "cell_type": "markdown",
   "metadata": {},
   "source": [
    "### Almacenamiento"
   ]
  },
  {
   "cell_type": "code",
   "execution_count": 16,
   "metadata": {},
   "outputs": [],
   "source": [
    "nombre_destino = \"amazon/curated/products_price_ranges.parquet\""
   ]
  },
  {
   "cell_type": "code",
   "execution_count": 17,
   "metadata": {},
   "outputs": [],
   "source": [
    "df_id.write.mode('overwrite').parquet(dir_archivo+nombre_destino)"
   ]
  },
  {
   "cell_type": "markdown",
   "metadata": {},
   "source": [
    "#### Adicional"
   ]
  },
  {
   "cell_type": "code",
   "execution_count": 18,
   "metadata": {},
   "outputs": [
    {
     "name": "stdout",
     "output_type": "stream",
     "text": [
      "+----------+-------------+------------------+------------------+-----------+------------------+-----------+\n",
      "|product_id|country_count|      avg_price_us|      max_price_us|max_country|      min_price_us|min_country|\n",
      "+----------+-------------+------------------+------------------+-----------+------------------+-----------+\n",
      "|B01N5RJW49|            2|15.989999771118164|15.989999771118164|         US|15.989999771118164|         US|\n",
      "|B07TLYTDXF|            2| 34.18598966303444| 34.18598966303444|         CA| 34.18598966303444|         CA|\n",
      "|B07PCXZ14V|            3| 69.98475720388413|  99.0039140507126|         CA| 40.96560035705566|         GB|\n",
      "+----------+-------------+------------------+------------------+-----------+------------------+-----------+\n",
      "only showing top 3 rows\n",
      "\n"
     ]
    }
   ],
   "source": [
    "df_filtrado = df_agg.limit(10)\n",
    "df_filtrado.show(3)"
   ]
  },
  {
   "cell_type": "code",
   "execution_count": 19,
   "metadata": {},
   "outputs": [],
   "source": [
    "df_pandas = df_filtrado.toPandas()\n",
    "nombre_csv = \"output/products_price_ranges.csv\"\n",
    "df_pandas.to_csv(nombre_csv, index=False)"
   ]
  },
  {
   "cell_type": "markdown",
   "metadata": {},
   "source": [
    "### Unpersist"
   ]
  },
  {
   "cell_type": "code",
   "execution_count": 20,
   "metadata": {},
   "outputs": [
    {
     "data": {
      "text/plain": [
       "DataFrame[product_id: string, country_count: int, avg_price_us: double, max_price_us: double, max_country: string, min_price_us: double, min_country: string]"
      ]
     },
     "execution_count": 20,
     "metadata": {},
     "output_type": "execute_result"
    }
   ],
   "source": [
    "df_max.unpersist()\n",
    "df_min.unpersist()\n",
    "df_id.unpersist()\n",
    "df_agg.unpersist()"
   ]
  }
 ],
 "metadata": {
  "kernelspec": {
   "display_name": "Python 3",
   "language": "python",
   "name": "python3"
  },
  "language_info": {
   "codemirror_mode": {
    "name": "ipython",
    "version": 3
   },
   "file_extension": ".py",
   "mimetype": "text/x-python",
   "name": "python",
   "nbconvert_exporter": "python",
   "pygments_lexer": "ipython3",
   "version": "3.7.6"
  }
 },
 "nbformat": 4,
 "nbformat_minor": 4
}
