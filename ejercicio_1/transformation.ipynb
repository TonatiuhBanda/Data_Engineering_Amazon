{
 "cells": [
  {
   "cell_type": "code",
   "execution_count": 1,
   "metadata": {},
   "outputs": [],
   "source": [
    "from pyspark.sql import SparkSession\n",
    "from pyspark.context import SparkContext\n",
    "import pyspark.sql.functions as F\n",
    "from pyspark.sql.types import *"
   ]
  },
  {
   "cell_type": "code",
   "execution_count": 2,
   "metadata": {},
   "outputs": [],
   "source": [
    "sc = SparkContext.getOrCreate()\n",
    "spark = SparkSession(sc)"
   ]
  },
  {
   "cell_type": "markdown",
   "metadata": {},
   "source": [
    "### Tabla productos"
   ]
  },
  {
   "cell_type": "code",
   "execution_count": 3,
   "metadata": {},
   "outputs": [],
   "source": [
    "dir_archivo = \"/home/tonatiuh/Documents/Desarrollo/ZophiaLearning/ejercicios/\"\n",
    "nombre_archivo = \"amazon/stage/products.parquet\""
   ]
  },
  {
   "cell_type": "code",
   "execution_count": 4,
   "metadata": {},
   "outputs": [],
   "source": [
    "df = spark.read.format(\"parquet\")\\\n",
    "        .load(dir_archivo+nombre_archivo)\n",
    "df = df.select([\n",
    "    'isbestseller',\n",
    "    'product_id',\n",
    "    'app_sale_price',\n",
    "    'app_sale_price_currency',\n",
    "    'isprime',\n",
    "    'evaluate_rate',\n",
    "    'country'])"
   ]
  },
  {
   "cell_type": "code",
   "execution_count": 5,
   "metadata": {},
   "outputs": [
    {
     "name": "stdout",
     "output_type": "stream",
     "text": [
      "root\n",
      " |-- isbestseller: boolean (nullable = true)\n",
      " |-- product_id: string (nullable = true)\n",
      " |-- app_sale_price: string (nullable = true)\n",
      " |-- app_sale_price_currency: string (nullable = true)\n",
      " |-- isprime: boolean (nullable = true)\n",
      " |-- evaluate_rate: string (nullable = true)\n",
      " |-- country: string (nullable = true)\n",
      "\n"
     ]
    }
   ],
   "source": [
    "df.printSchema()"
   ]
  },
  {
   "cell_type": "code",
   "execution_count": 6,
   "metadata": {},
   "outputs": [],
   "source": [
    "df = df.withColumn('app_sale_price', F.col('app_sale_price').cast(FloatType()))"
   ]
  },
  {
   "cell_type": "code",
   "execution_count": 7,
   "metadata": {},
   "outputs": [
    {
     "name": "stdout",
     "output_type": "stream",
     "text": [
      "+------------+----------+--------------+-----------------------+-------+------------------+-------+\n",
      "|isbestseller|product_id|app_sale_price|app_sale_price_currency|isprime|     evaluate_rate|country|\n",
      "+------------+----------+--------------+-----------------------+-------+------------------+-------+\n",
      "|       false|B019HKBWGO|         87.99|                      $|   true|4.2 out of 5 stars|     US|\n",
      "|       false|B07TVDBFQM|         10.45|                      $|   true|4.5 out of 5 stars|     US|\n",
      "|        true|B0154ASID6|         19.99|                      $|   true|4.6 out of 5 stars|     US|\n",
      "|        true|B08TJZDJ4D|         28.49|                      $|   true|4.7 out of 5 stars|     US|\n",
      "|        true|B00MNV8E0C|         14.99|                      $|   true|4.7 out of 5 stars|     US|\n",
      "+------------+----------+--------------+-----------------------+-------+------------------+-------+\n",
      "only showing top 5 rows\n",
      "\n"
     ]
    }
   ],
   "source": [
    "df.show(n=5)\n",
    "#df.show(n=5, vertical=True, truncate=False)"
   ]
  },
  {
   "cell_type": "markdown",
   "metadata": {},
   "source": [
    "### Tabla tasas de cambio"
   ]
  },
  {
   "cell_type": "code",
   "execution_count": 8,
   "metadata": {},
   "outputs": [],
   "source": [
    "nombre_archivo = \"amazon/stage/tasas_cambio_pais_anual.parquet\"\n",
    "df_tc = spark.read.format(\"parquet\")\\\n",
    "                    .load(dir_archivo+nombre_archivo)"
   ]
  },
  {
   "cell_type": "code",
   "execution_count": 9,
   "metadata": {},
   "outputs": [
    {
     "name": "stdout",
     "output_type": "stream",
     "text": [
      "+------------+------------+------------+--------+----+-----+\n",
      "|Country-name|Alpha-2-code|Alpha-3-code|Currency|Year|Value|\n",
      "+------------+------------+------------+--------+----+-----+\n",
      "|   Argentina|          AR|         ARG|     ARS|1962|  0.0|\n",
      "|   Argentina|          AR|         ARG|     ARS|1963|  0.0|\n",
      "|   Argentina|          AR|         ARG|     ARS|1964|  0.0|\n",
      "+------------+------------+------------+--------+----+-----+\n",
      "only showing top 3 rows\n",
      "\n"
     ]
    }
   ],
   "source": [
    "df_tc.show(3)"
   ]
  },
  {
   "cell_type": "code",
   "execution_count": 10,
   "metadata": {},
   "outputs": [
    {
     "data": {
      "text/plain": [
       "DataFrame[country: string, Value: double]"
      ]
     },
     "execution_count": 10,
     "metadata": {},
     "output_type": "execute_result"
    }
   ],
   "source": [
    "df_tc_max_year = df_tc.groupby('Alpha-2-code').agg(F.max('Year').alias('Year'))\n",
    "df_tc_max = df_tc.join(df_tc_max_year, how='inner', on=['Alpha-2-code', 'Year'])\n",
    "df_tc_max = df_tc_max.select([\n",
    "    'Alpha-2-code', \n",
    "    'Value'])\n",
    "df_tc_max = df_tc_max.withColumnRenamed('Alpha-2-code', 'country')\n",
    "df_tc_max.cache()"
   ]
  },
  {
   "cell_type": "code",
   "execution_count": 11,
   "metadata": {},
   "outputs": [
    {
     "name": "stdout",
     "output_type": "stream",
     "text": [
      "+-------+------------------+\n",
      "|country|             Value|\n",
      "+-------+------------------+\n",
      "|     AR|         70.539167|\n",
      "|     AU|          1.453085|\n",
      "|     AT|0.8755059999999999|\n",
      "+-------+------------------+\n",
      "only showing top 3 rows\n",
      "\n"
     ]
    }
   ],
   "source": [
    "df_tc_max.show(3)"
   ]
  },
  {
   "cell_type": "code",
   "execution_count": 12,
   "metadata": {},
   "outputs": [],
   "source": [
    "#df_tc_max.groupby('Alpha-2-code').agg(F.count('Value').alias('conteo')).sort('conteo', ascending=False).show()"
   ]
  },
  {
   "cell_type": "markdown",
   "metadata": {},
   "source": [
    "### Cruce de tablas"
   ]
  },
  {
   "cell_type": "code",
   "execution_count": 13,
   "metadata": {},
   "outputs": [
    {
     "data": {
      "text/plain": [
       "DataFrame[isbestseller: boolean, product_id: string, app_sale_price: float, app_sale_price_currency: string, isprime: boolean, evaluate_rate: string, country: string, app_sale_price_us: double]"
      ]
     },
     "execution_count": 13,
     "metadata": {},
     "output_type": "execute_result"
    }
   ],
   "source": [
    "df_p_tc = df.join(df_tc_max, how='left', on=['country'])\n",
    "df_p_tc = df_p_tc.withColumn('app_sale_price_us',\n",
    "                             F.col('app_sale_price')*F.col('Value'))\n",
    "df_p_tc = df_p_tc.select([\n",
    "    'isbestseller',\n",
    "    'product_id',\n",
    "    'app_sale_price',\n",
    "    'app_sale_price_currency',\n",
    "    'isprime',\n",
    "    'evaluate_rate',\n",
    "    'country',\n",
    "    'app_sale_price_us'])\n",
    "df_p_tc.cache()"
   ]
  },
  {
   "cell_type": "code",
   "execution_count": 14,
   "metadata": {},
   "outputs": [
    {
     "name": "stdout",
     "output_type": "stream",
     "text": [
      "+------------+----------+--------------+-----------------------+-------+------------------+-------+------------------+\n",
      "|isbestseller|product_id|app_sale_price|app_sale_price_currency|isprime|     evaluate_rate|country| app_sale_price_us|\n",
      "+------------+----------+--------------+-----------------------+-------+------------------+-------+------------------+\n",
      "|       false|B019HKBWGO|         87.99|                      $|   true|4.2 out of 5 stars|     US| 87.98999786376953|\n",
      "|       false|B07TVDBFQM|         10.45|                      $|   true|4.5 out of 5 stars|     US|10.449999809265137|\n",
      "|        true|B0154ASID6|         19.99|                      $|   true|4.6 out of 5 stars|     US|19.989999771118164|\n",
      "+------------+----------+--------------+-----------------------+-------+------------------+-------+------------------+\n",
      "only showing top 3 rows\n",
      "\n"
     ]
    }
   ],
   "source": [
    "df_p_tc.filter(F.col('app_sale_price').isNotNull()).show(3)"
   ]
  },
  {
   "cell_type": "markdown",
   "metadata": {},
   "source": [
    "### Almacenamiento"
   ]
  },
  {
   "cell_type": "code",
   "execution_count": 15,
   "metadata": {},
   "outputs": [],
   "source": [
    "nombre_destino = \"amazon/curated/products_standard_price.parquet\""
   ]
  },
  {
   "cell_type": "code",
   "execution_count": 16,
   "metadata": {},
   "outputs": [],
   "source": [
    "df_p_tc.write.mode('overwrite').parquet(dir_archivo+nombre_destino)"
   ]
  },
  {
   "cell_type": "markdown",
   "metadata": {},
   "source": [
    "#### Adicional"
   ]
  },
  {
   "cell_type": "code",
   "execution_count": 17,
   "metadata": {},
   "outputs": [],
   "source": [
    "df_filtrado = df_p_tc.filter(F.col('app_sale_price').isNotNull()).limit(10)"
   ]
  },
  {
   "cell_type": "code",
   "execution_count": 18,
   "metadata": {},
   "outputs": [
    {
     "name": "stdout",
     "output_type": "stream",
     "text": [
      "+------------+----------+--------------+-----------------------+-------+------------------+-------+------------------+\n",
      "|isbestseller|product_id|app_sale_price|app_sale_price_currency|isprime|     evaluate_rate|country| app_sale_price_us|\n",
      "+------------+----------+--------------+-----------------------+-------+------------------+-------+------------------+\n",
      "|       false|B019HKBWGO|         87.99|                      $|   true|4.2 out of 5 stars|     US| 87.98999786376953|\n",
      "|       false|B07TVDBFQM|         10.45|                      $|   true|4.5 out of 5 stars|     US|10.449999809265137|\n",
      "|        true|B0154ASID6|         19.99|                      $|   true|4.6 out of 5 stars|     US|19.989999771118164|\n",
      "+------------+----------+--------------+-----------------------+-------+------------------+-------+------------------+\n",
      "only showing top 3 rows\n",
      "\n"
     ]
    }
   ],
   "source": [
    "df_filtrado.show(3)"
   ]
  },
  {
   "cell_type": "code",
   "execution_count": 19,
   "metadata": {},
   "outputs": [],
   "source": [
    "df_pandas = df_filtrado.toPandas()\n",
    "nombre_csv = \"output/products_standard_price_sample.csv\"\n",
    "df_pandas.to_csv(nombre_csv, index=False)"
   ]
  },
  {
   "cell_type": "markdown",
   "metadata": {},
   "source": [
    "### Unpersist"
   ]
  },
  {
   "cell_type": "code",
   "execution_count": 20,
   "metadata": {},
   "outputs": [
    {
     "data": {
      "text/plain": [
       "DataFrame[isbestseller: boolean, product_id: string, app_sale_price: float, app_sale_price_currency: string, isprime: boolean, evaluate_rate: string, country: string, app_sale_price_us: double]"
      ]
     },
     "execution_count": 20,
     "metadata": {},
     "output_type": "execute_result"
    }
   ],
   "source": [
    "df_tc_max.unpersist()\n",
    "df_p_tc.unpersist()"
   ]
  }
 ],
 "metadata": {
  "kernelspec": {
   "display_name": "Python 3",
   "language": "python",
   "name": "python3"
  },
  "language_info": {
   "codemirror_mode": {
    "name": "ipython",
    "version": 3
   },
   "file_extension": ".py",
   "mimetype": "text/x-python",
   "name": "python",
   "nbconvert_exporter": "python",
   "pygments_lexer": "ipython3",
   "version": "3.7.6"
  }
 },
 "nbformat": 4,
 "nbformat_minor": 4
}
