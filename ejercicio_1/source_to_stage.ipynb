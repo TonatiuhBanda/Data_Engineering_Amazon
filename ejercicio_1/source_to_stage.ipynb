{
 "cells": [
  {
   "cell_type": "code",
   "execution_count": 1,
   "metadata": {},
   "outputs": [],
   "source": [
    "import pandas as pd"
   ]
  },
  {
   "cell_type": "code",
   "execution_count": 2,
   "metadata": {},
   "outputs": [],
   "source": [
    "dir_archivo = \"/home/tonatiuh/Documents/Desarrollo/ZophiaLearning/datasets/\""
   ]
  },
  {
   "cell_type": "markdown",
   "metadata": {},
   "source": [
    "### Tabla products"
   ]
  },
  {
   "cell_type": "code",
   "execution_count": 3,
   "metadata": {},
   "outputs": [
    {
     "data": {
      "text/html": [
       "<div>\n",
       "<style scoped>\n",
       "    .dataframe tbody tr th:only-of-type {\n",
       "        vertical-align: middle;\n",
       "    }\n",
       "\n",
       "    .dataframe tbody tr th {\n",
       "        vertical-align: top;\n",
       "    }\n",
       "\n",
       "    .dataframe thead th {\n",
       "        text-align: right;\n",
       "    }\n",
       "</style>\n",
       "<table border=\"1\" class=\"dataframe\">\n",
       "  <thead>\n",
       "    <tr style=\"text-align: right;\">\n",
       "      <th></th>\n",
       "      <th>isbestseller</th>\n",
       "      <th>product_title</th>\n",
       "      <th>product_main_image_url</th>\n",
       "      <th>app_sale_price</th>\n",
       "      <th>app_sale_price_currency</th>\n",
       "      <th>isprime</th>\n",
       "      <th>product_detail_url</th>\n",
       "      <th>product_id</th>\n",
       "      <th>evaluate_rate</th>\n",
       "      <th>original_price</th>\n",
       "      <th>country</th>\n",
       "    </tr>\n",
       "  </thead>\n",
       "  <tbody>\n",
       "    <tr>\n",
       "      <th>0</th>\n",
       "      <td>False</td>\n",
       "      <td>SUPERIOR Egyptian Cotton, 650 Thread Count Sol...</td>\n",
       "      <td>https://m.media-amazon.com/images/I/913IwAxzLm...</td>\n",
       "      <td>87.99</td>\n",
       "      <td>$</td>\n",
       "      <td>True</td>\n",
       "      <td>https://www.amazon.com/dp/B019HKBWGO</td>\n",
       "      <td>B019HKBWGO</td>\n",
       "      <td>4.2 out of 5 stars</td>\n",
       "      <td>NaN</td>\n",
       "      <td>US</td>\n",
       "    </tr>\n",
       "    <tr>\n",
       "      <th>1</th>\n",
       "      <td>False</td>\n",
       "      <td>Amazon Basics Socks and Underwear Dresser Orga...</td>\n",
       "      <td>https://m.media-amazon.com/images/I/917Ryzrgu9...</td>\n",
       "      <td>10.45</td>\n",
       "      <td>$</td>\n",
       "      <td>True</td>\n",
       "      <td>https://www.amazon.com/dp/B07TVDBFQM</td>\n",
       "      <td>B07TVDBFQM</td>\n",
       "      <td>4.5 out of 5 stars</td>\n",
       "      <td>$11.09</td>\n",
       "      <td>US</td>\n",
       "    </tr>\n",
       "    <tr>\n",
       "      <th>2</th>\n",
       "      <td>True</td>\n",
       "      <td>Amazon Basics Lightweight Super Soft Easy Care...</td>\n",
       "      <td>https://m.media-amazon.com/images/I/51vdF7fqxs...</td>\n",
       "      <td>19.99</td>\n",
       "      <td>$</td>\n",
       "      <td>True</td>\n",
       "      <td>https://www.amazon.com/dp/B0154ASID6</td>\n",
       "      <td>B0154ASID6</td>\n",
       "      <td>4.6 out of 5 stars</td>\n",
       "      <td>NaN</td>\n",
       "      <td>US</td>\n",
       "    </tr>\n",
       "  </tbody>\n",
       "</table>\n",
       "</div>"
      ],
      "text/plain": [
       "   isbestseller                                      product_title  \\\n",
       "0         False  SUPERIOR Egyptian Cotton, 650 Thread Count Sol...   \n",
       "1         False  Amazon Basics Socks and Underwear Dresser Orga...   \n",
       "2          True  Amazon Basics Lightweight Super Soft Easy Care...   \n",
       "\n",
       "                              product_main_image_url app_sale_price  \\\n",
       "0  https://m.media-amazon.com/images/I/913IwAxzLm...          87.99   \n",
       "1  https://m.media-amazon.com/images/I/917Ryzrgu9...          10.45   \n",
       "2  https://m.media-amazon.com/images/I/51vdF7fqxs...          19.99   \n",
       "\n",
       "  app_sale_price_currency  isprime                    product_detail_url  \\\n",
       "0                       $     True  https://www.amazon.com/dp/B019HKBWGO   \n",
       "1                       $     True  https://www.amazon.com/dp/B07TVDBFQM   \n",
       "2                       $     True  https://www.amazon.com/dp/B0154ASID6   \n",
       "\n",
       "   product_id       evaluate_rate original_price country  \n",
       "0  B019HKBWGO  4.2 out of 5 stars            NaN      US  \n",
       "1  B07TVDBFQM  4.5 out of 5 stars         $11.09      US  \n",
       "2  B0154ASID6  4.6 out of 5 stars            NaN      US  "
      ]
     },
     "execution_count": 3,
     "metadata": {},
     "output_type": "execute_result"
    }
   ],
   "source": [
    "nombre_archivo = \"amazon/products.csv\"\n",
    "df = pd.read_csv(dir_archivo+nombre_archivo, delimiter='|')\n",
    "nombre_destino = \"stage/products.parquet\"\n",
    "df.to_parquet(nombre_destino)\n",
    "df.head(3)"
   ]
  },
  {
   "cell_type": "markdown",
   "metadata": {},
   "source": [
    "### Tabla tasas_cambio_pais_anual"
   ]
  },
  {
   "cell_type": "code",
   "execution_count": 4,
   "metadata": {},
   "outputs": [
    {
     "data": {
      "text/html": [
       "<div>\n",
       "<style scoped>\n",
       "    .dataframe tbody tr th:only-of-type {\n",
       "        vertical-align: middle;\n",
       "    }\n",
       "\n",
       "    .dataframe tbody tr th {\n",
       "        vertical-align: top;\n",
       "    }\n",
       "\n",
       "    .dataframe thead th {\n",
       "        text-align: right;\n",
       "    }\n",
       "</style>\n",
       "<table border=\"1\" class=\"dataframe\">\n",
       "  <thead>\n",
       "    <tr style=\"text-align: right;\">\n",
       "      <th></th>\n",
       "      <th>Country-name</th>\n",
       "      <th>Alpha-2-code</th>\n",
       "      <th>Alpha-3-code</th>\n",
       "      <th>Currency</th>\n",
       "      <th>Year</th>\n",
       "      <th>Value</th>\n",
       "    </tr>\n",
       "  </thead>\n",
       "  <tbody>\n",
       "    <tr>\n",
       "      <th>0</th>\n",
       "      <td>Argentina</td>\n",
       "      <td>AR</td>\n",
       "      <td>ARG</td>\n",
       "      <td>ARS</td>\n",
       "      <td>1962</td>\n",
       "      <td>0.0</td>\n",
       "    </tr>\n",
       "    <tr>\n",
       "      <th>1</th>\n",
       "      <td>Argentina</td>\n",
       "      <td>AR</td>\n",
       "      <td>ARG</td>\n",
       "      <td>ARS</td>\n",
       "      <td>1963</td>\n",
       "      <td>0.0</td>\n",
       "    </tr>\n",
       "    <tr>\n",
       "      <th>2</th>\n",
       "      <td>Argentina</td>\n",
       "      <td>AR</td>\n",
       "      <td>ARG</td>\n",
       "      <td>ARS</td>\n",
       "      <td>1964</td>\n",
       "      <td>0.0</td>\n",
       "    </tr>\n",
       "  </tbody>\n",
       "</table>\n",
       "</div>"
      ],
      "text/plain": [
       "  Country-name Alpha-2-code Alpha-3-code Currency  Year  Value\n",
       "0    Argentina           AR          ARG      ARS  1962    0.0\n",
       "1    Argentina           AR          ARG      ARS  1963    0.0\n",
       "2    Argentina           AR          ARG      ARS  1964    0.0"
      ]
     },
     "execution_count": 4,
     "metadata": {},
     "output_type": "execute_result"
    }
   ],
   "source": [
    "nombre_archivo = \"amazon/tasas_cambio_pais_anual.csv\"\n",
    "df = pd.read_csv(dir_archivo+nombre_archivo, delimiter=',')\n",
    "nombre_destino = \"stage/tasas_cambio_pais_anual.parquet\"\n",
    "df.to_parquet(nombre_destino)\n",
    "df.head(3)"
   ]
  }
 ],
 "metadata": {
  "kernelspec": {
   "display_name": "Python 3",
   "language": "python",
   "name": "python3"
  },
  "language_info": {
   "codemirror_mode": {
    "name": "ipython",
    "version": 3
   },
   "file_extension": ".py",
   "mimetype": "text/x-python",
   "name": "python",
   "nbconvert_exporter": "python",
   "pygments_lexer": "ipython3",
   "version": "3.7.6"
  }
 },
 "nbformat": 4,
 "nbformat_minor": 4
}
