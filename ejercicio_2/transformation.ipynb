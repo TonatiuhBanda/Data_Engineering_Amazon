{
 "cells": [
  {
   "cell_type": "code",
   "execution_count": 1,
   "metadata": {},
   "outputs": [],
   "source": [
    "from pyspark.sql import SparkSession\n",
    "from pyspark.context import SparkContext\n",
    "import pyspark.sql.functions as F\n",
    "from pyspark.sql.types import *"
   ]
  },
  {
   "cell_type": "code",
   "execution_count": 2,
   "metadata": {},
   "outputs": [],
   "source": [
    "sc = SparkContext.getOrCreate()\n",
    "spark = SparkSession(sc)"
   ]
  },
  {
   "cell_type": "markdown",
   "metadata": {},
   "source": [
    "### Tabla products_standard_price"
   ]
  },
  {
   "cell_type": "code",
   "execution_count": 3,
   "metadata": {},
   "outputs": [],
   "source": [
    "dir_archivo = \"/home/tonatiuh/Documents/Desarrollo/ZophiaLearning/ejercicios/\"\n",
    "nombre_archivo = \"amazon/curated/products_standard_price.parquet\""
   ]
  },
  {
   "cell_type": "code",
   "execution_count": 4,
   "metadata": {},
   "outputs": [],
   "source": [
    "df = spark.read.format(\"parquet\")\\\n",
    "        .load(dir_archivo+nombre_archivo)"
   ]
  },
  {
   "cell_type": "code",
   "execution_count": 5,
   "metadata": {},
   "outputs": [],
   "source": [
    "df = df.select([\n",
    "    'product_id',\n",
    "    'country',\n",
    "    'app_sale_price_us'])"
   ]
  },
  {
   "cell_type": "code",
   "execution_count": 6,
   "metadata": {},
   "outputs": [
    {
     "name": "stdout",
     "output_type": "stream",
     "text": [
      "root\n",
      " |-- product_id: string (nullable = true)\n",
      " |-- country: string (nullable = true)\n",
      " |-- app_sale_price_us: double (nullable = true)\n",
      "\n"
     ]
    }
   ],
   "source": [
    "df.printSchema()"
   ]
  },
  {
   "cell_type": "code",
   "execution_count": 7,
   "metadata": {},
   "outputs": [
    {
     "name": "stdout",
     "output_type": "stream",
     "text": [
      "+----------+-------+------------------+\n",
      "|product_id|country| app_sale_price_us|\n",
      "+----------+-------+------------------+\n",
      "|B019HKBWGO|     US| 87.98999786376953|\n",
      "|B07TVDBFQM|     US|10.449999809265137|\n",
      "|B0154ASID6|     US|19.989999771118164|\n",
      "|B08TJZDJ4D|     US|28.489999771118164|\n",
      "|B00MNV8E0C|     US|14.989999771118164|\n",
      "+----------+-------+------------------+\n",
      "only showing top 5 rows\n",
      "\n"
     ]
    }
   ],
   "source": [
    "df.show(n=5)\n",
    "#df.show(n=5, vertical=True, truncate=False)"
   ]
  },
  {
   "cell_type": "markdown",
   "metadata": {},
   "source": [
    "### Tabla agrupación product_id"
   ]
  },
  {
   "cell_type": "code",
   "execution_count": 8,
   "metadata": {},
   "outputs": [
    {
     "data": {
      "text/plain": [
       "DataFrame[product_id: string, country_count: int, avg_price_us: double]"
      ]
     },
     "execution_count": 8,
     "metadata": {},
     "output_type": "execute_result"
    }
   ],
   "source": [
    "df_id = df.groupby('product_id')\\\n",
    "    .agg(F.count('country').alias('country_count'),\n",
    "         F.mean('app_sale_price_us').alias('avg_price_us'))\n",
    "df_id = df_id.withColumn('country_count', F.col('country_count').cast(IntegerType()))\n",
    "df_id.cache()"
   ]
  },
  {
   "cell_type": "code",
   "execution_count": 9,
   "metadata": {},
   "outputs": [
    {
     "name": "stdout",
     "output_type": "stream",
     "text": [
      "+----------+-------------+------------------+\n",
      "|product_id|country_count|      avg_price_us|\n",
      "+----------+-------------+------------------+\n",
      "|B01N5RJW49|            2|15.989999771118164|\n",
      "|B07TLYTDXF|            2| 34.18598966303444|\n",
      "|B07PCXZ14V|            3| 69.98475720388413|\n",
      "+----------+-------------+------------------+\n",
      "only showing top 3 rows\n",
      "\n"
     ]
    }
   ],
   "source": [
    "df_id.show(3)"
   ]
  },
  {
   "cell_type": "markdown",
   "metadata": {},
   "source": [
    "### Almacenamiento"
   ]
  },
  {
   "cell_type": "code",
   "execution_count": 10,
   "metadata": {},
   "outputs": [],
   "source": [
    "nombre_destino = \"amazon/curated/products_avg_price.parquet\""
   ]
  },
  {
   "cell_type": "code",
   "execution_count": 11,
   "metadata": {},
   "outputs": [],
   "source": [
    "df_id.write.mode('overwrite').parquet(dir_archivo+nombre_destino)"
   ]
  },
  {
   "cell_type": "markdown",
   "metadata": {},
   "source": [
    "#### Adicional"
   ]
  },
  {
   "cell_type": "code",
   "execution_count": 12,
   "metadata": {},
   "outputs": [
    {
     "name": "stdout",
     "output_type": "stream",
     "text": [
      "+----------+-------------+------------------+\n",
      "|product_id|country_count|      avg_price_us|\n",
      "+----------+-------------+------------------+\n",
      "|B01N5RJW49|            2|15.989999771118164|\n",
      "|B07TLYTDXF|            2| 34.18598966303444|\n",
      "|B07PCXZ14V|            3| 69.98475720388413|\n",
      "+----------+-------------+------------------+\n",
      "only showing top 3 rows\n",
      "\n"
     ]
    }
   ],
   "source": [
    "df_filtrado = df_id.limit(10)\n",
    "df_filtrado.show(3)"
   ]
  },
  {
   "cell_type": "code",
   "execution_count": 13,
   "metadata": {},
   "outputs": [],
   "source": [
    "df_pandas = df_filtrado.toPandas()\n",
    "nombre_csv = \"output/products_avg_price.csv\"\n",
    "df_pandas.to_csv(nombre_csv, index=False)"
   ]
  },
  {
   "cell_type": "markdown",
   "metadata": {},
   "source": [
    "### Unpersist"
   ]
  },
  {
   "cell_type": "code",
   "execution_count": 14,
   "metadata": {},
   "outputs": [
    {
     "data": {
      "text/plain": [
       "DataFrame[product_id: string, country_count: int, avg_price_us: double]"
      ]
     },
     "execution_count": 14,
     "metadata": {},
     "output_type": "execute_result"
    }
   ],
   "source": [
    "df_id.unpersist()"
   ]
  }
 ],
 "metadata": {
  "kernelspec": {
   "display_name": "Python 3",
   "language": "python",
   "name": "python3"
  },
  "language_info": {
   "codemirror_mode": {
    "name": "ipython",
    "version": 3
   },
   "file_extension": ".py",
   "mimetype": "text/x-python",
   "name": "python",
   "nbconvert_exporter": "python",
   "pygments_lexer": "ipython3",
   "version": "3.7.6"
  }
 },
 "nbformat": 4,
 "nbformat_minor": 4
}
