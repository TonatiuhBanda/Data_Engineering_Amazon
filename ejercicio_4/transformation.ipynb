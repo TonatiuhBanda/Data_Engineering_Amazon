{
 "cells": [
  {
   "cell_type": "code",
   "execution_count": 1,
   "metadata": {},
   "outputs": [],
   "source": [
    "from pyspark.sql import SparkSession\n",
    "from pyspark.context import SparkContext\n",
    "import pyspark.sql.functions as F\n",
    "from pyspark.sql.types import *"
   ]
  },
  {
   "cell_type": "code",
   "execution_count": 2,
   "metadata": {},
   "outputs": [],
   "source": [
    "sc = SparkContext.getOrCreate()\n",
    "spark = SparkSession(sc)"
   ]
  },
  {
   "cell_type": "markdown",
   "metadata": {},
   "source": [
    "### Tabla products_standard_price"
   ]
  },
  {
   "cell_type": "code",
   "execution_count": 3,
   "metadata": {},
   "outputs": [],
   "source": [
    "dir_archivo = \"/home/tonatiuh/Documents/Desarrollo/ZophiaLearning/ejercicios/\"\n",
    "nombre_archivo = \"amazon/curated/products_standard_price.parquet\""
   ]
  },
  {
   "cell_type": "code",
   "execution_count": 4,
   "metadata": {},
   "outputs": [],
   "source": [
    "df = spark.read.format(\"parquet\")\\\n",
    "        .load(dir_archivo+nombre_archivo)"
   ]
  },
  {
   "cell_type": "code",
   "execution_count": 5,
   "metadata": {},
   "outputs": [],
   "source": [
    "df = df.select([\n",
    "    'product_id',\n",
    "    'evaluate_rate',\n",
    "    'country'])"
   ]
  },
  {
   "cell_type": "code",
   "execution_count": 6,
   "metadata": {},
   "outputs": [
    {
     "name": "stdout",
     "output_type": "stream",
     "text": [
      "root\n",
      " |-- product_id: string (nullable = true)\n",
      " |-- evaluate_rate: string (nullable = true)\n",
      " |-- country: string (nullable = true)\n",
      "\n"
     ]
    }
   ],
   "source": [
    "df.printSchema()"
   ]
  },
  {
   "cell_type": "code",
   "execution_count": 7,
   "metadata": {},
   "outputs": [
    {
     "name": "stdout",
     "output_type": "stream",
     "text": [
      "+----------+------------------+-------+\n",
      "|product_id|     evaluate_rate|country|\n",
      "+----------+------------------+-------+\n",
      "|B019HKBWGO|4.2 out of 5 stars|     US|\n",
      "|B07TVDBFQM|4.5 out of 5 stars|     US|\n",
      "|B0154ASID6|4.6 out of 5 stars|     US|\n",
      "|B08TJZDJ4D|4.7 out of 5 stars|     US|\n",
      "|B00MNV8E0C|4.7 out of 5 stars|     US|\n",
      "+----------+------------------+-------+\n",
      "only showing top 5 rows\n",
      "\n"
     ]
    }
   ],
   "source": [
    "df.show(n=5)\n",
    "#df.show(n=5, vertical=True, truncate=False)"
   ]
  },
  {
   "cell_type": "markdown",
   "metadata": {},
   "source": [
    "### Columna evaluation rate"
   ]
  },
  {
   "cell_type": "code",
   "execution_count": 8,
   "metadata": {},
   "outputs": [],
   "source": [
    "df = df.withColumn('evaluation_rate', F.split(F.col('evaluate_rate'), '[^0-9.,]').getItem(0))\n",
    "df = df.withColumn('evaluation_rate', F.regexp_replace(F.col('evaluation_rate'), ',', '.'))\n",
    "df = df.withColumn('evaluation_rate', F.col('evaluation_rate').cast(FloatType()))"
   ]
  },
  {
   "cell_type": "code",
   "execution_count": 9,
   "metadata": {},
   "outputs": [
    {
     "name": "stdout",
     "output_type": "stream",
     "text": [
      "+----------+------------------+-------+---------------+\n",
      "|product_id|     evaluate_rate|country|evaluation_rate|\n",
      "+----------+------------------+-------+---------------+\n",
      "|B019HKBWGO|4.2 out of 5 stars|     US|            4.2|\n",
      "|B07TVDBFQM|4.5 out of 5 stars|     US|            4.5|\n",
      "|B0154ASID6|4.6 out of 5 stars|     US|            4.6|\n",
      "+----------+------------------+-------+---------------+\n",
      "only showing top 3 rows\n",
      "\n"
     ]
    }
   ],
   "source": [
    "df.show(3)"
   ]
  },
  {
   "cell_type": "code",
   "execution_count": 10,
   "metadata": {},
   "outputs": [],
   "source": [
    "#df.filter(F.col('evaluation_rate').isNull()).filter(F.col('evaluate_rate').isNotNull()).show(5)"
   ]
  },
  {
   "cell_type": "markdown",
   "metadata": {},
   "source": [
    "### Tabla avg rate"
   ]
  },
  {
   "cell_type": "code",
   "execution_count": 11,
   "metadata": {},
   "outputs": [
    {
     "data": {
      "text/plain": [
       "DataFrame[product_id: string, avg_evaluation_rate: double, country_count: int]"
      ]
     },
     "execution_count": 11,
     "metadata": {},
     "output_type": "execute_result"
    }
   ],
   "source": [
    "df_rate = df.groupby('product_id')\\\n",
    "    .agg(F.mean('evaluation_rate').alias('avg_evaluation_rate'),\n",
    "         F.count('country').alias('country_count'))\n",
    "df_rate = df_rate.withColumn('country_count', F.col('country_count').cast(IntegerType()))\n",
    "df_rate.cache()"
   ]
  },
  {
   "cell_type": "code",
   "execution_count": 12,
   "metadata": {},
   "outputs": [
    {
     "name": "stdout",
     "output_type": "stream",
     "text": [
      "+----------+-------------------+-------------+\n",
      "|product_id|avg_evaluation_rate|country_count|\n",
      "+----------+-------------------+-------------+\n",
      "|B01N5RJW49|  4.699999809265137|            2|\n",
      "|B07TLYTDXF|  4.699999809265137|            2|\n",
      "|B07PCXZ14V|  4.633333206176758|            3|\n",
      "+----------+-------------------+-------------+\n",
      "only showing top 3 rows\n",
      "\n"
     ]
    }
   ],
   "source": [
    "df_rate.show(3)"
   ]
  },
  {
   "cell_type": "markdown",
   "metadata": {},
   "source": [
    "### Almacenamiento"
   ]
  },
  {
   "cell_type": "code",
   "execution_count": 13,
   "metadata": {},
   "outputs": [],
   "source": [
    "nombre_destino = \"amazon/curated/product_rate_avg.parquet\""
   ]
  },
  {
   "cell_type": "code",
   "execution_count": 14,
   "metadata": {},
   "outputs": [],
   "source": [
    "df_rate.write.mode('overwrite').parquet(dir_archivo+nombre_destino)"
   ]
  },
  {
   "cell_type": "markdown",
   "metadata": {},
   "source": [
    "#### Adicional"
   ]
  },
  {
   "cell_type": "code",
   "execution_count": 15,
   "metadata": {},
   "outputs": [
    {
     "name": "stdout",
     "output_type": "stream",
     "text": [
      "+----------+-------------------+-------------+\n",
      "|product_id|avg_evaluation_rate|country_count|\n",
      "+----------+-------------------+-------------+\n",
      "|B01N5RJW49|  4.699999809265137|            2|\n",
      "|B07TLYTDXF|  4.699999809265137|            2|\n",
      "|B07PCXZ14V|  4.633333206176758|            3|\n",
      "+----------+-------------------+-------------+\n",
      "only showing top 3 rows\n",
      "\n"
     ]
    }
   ],
   "source": [
    "df_filtrado = df_rate.limit(10)\n",
    "df_filtrado.show(3)"
   ]
  },
  {
   "cell_type": "code",
   "execution_count": 16,
   "metadata": {},
   "outputs": [],
   "source": [
    "df_pandas = df_filtrado.toPandas()\n",
    "nombre_csv = \"output/product_rate_avg.csv\"\n",
    "df_pandas.to_csv(nombre_csv, index=False)"
   ]
  },
  {
   "cell_type": "markdown",
   "metadata": {},
   "source": [
    "### Unpersist"
   ]
  },
  {
   "cell_type": "code",
   "execution_count": 17,
   "metadata": {},
   "outputs": [
    {
     "data": {
      "text/plain": [
       "DataFrame[product_id: string, avg_evaluation_rate: double, country_count: int]"
      ]
     },
     "execution_count": 17,
     "metadata": {},
     "output_type": "execute_result"
    }
   ],
   "source": [
    "df_rate.unpersist()"
   ]
  }
 ],
 "metadata": {
  "kernelspec": {
   "display_name": "Python 3",
   "language": "python",
   "name": "python3"
  },
  "language_info": {
   "codemirror_mode": {
    "name": "ipython",
    "version": 3
   },
   "file_extension": ".py",
   "mimetype": "text/x-python",
   "name": "python",
   "nbconvert_exporter": "python",
   "pygments_lexer": "ipython3",
   "version": "3.7.6"
  }
 },
 "nbformat": 4,
 "nbformat_minor": 4
}
